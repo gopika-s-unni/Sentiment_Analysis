{
 "cells": [
  {
   "cell_type": "code",
   "execution_count": 6,
   "id": "ce83c6a5",
   "metadata": {},
   "outputs": [],
   "source": [
    "import pandas as pd\n",
    "import numpy as np\n",
    "import matplotlib.pyplot as plt\n",
    "import seaborn as sns\n",
    "\n",
    "plt.style.use('ggplot')\n",
    "\n",
    "import nltk"
   ]
  },
  {
   "cell_type": "code",
   "execution_count": 7,
   "id": "07be0d31",
   "metadata": {},
   "outputs": [],
   "source": [
    "data = pd.read_csv('Reviews.csv')"
   ]
  },
  {
   "cell_type": "code",
   "execution_count": 10,
   "id": "6aa20864",
   "metadata": {},
   "outputs": [
    {
     "data": {
      "text/html": [
       "<div>\n",
       "<style scoped>\n",
       "    .dataframe tbody tr th:only-of-type {\n",
       "        vertical-align: middle;\n",
       "    }\n",
       "\n",
       "    .dataframe tbody tr th {\n",
       "        vertical-align: top;\n",
       "    }\n",
       "\n",
       "    .dataframe thead th {\n",
       "        text-align: right;\n",
       "    }\n",
       "</style>\n",
       "<table border=\"1\" class=\"dataframe\">\n",
       "  <thead>\n",
       "    <tr style=\"text-align: right;\">\n",
       "      <th></th>\n",
       "      <th>Id</th>\n",
       "      <th>ProductId</th>\n",
       "      <th>UserId</th>\n",
       "      <th>ProfileName</th>\n",
       "      <th>HelpfulnessNumerator</th>\n",
       "      <th>HelpfulnessDenominator</th>\n",
       "      <th>Score</th>\n",
       "      <th>Time</th>\n",
       "      <th>Summary</th>\n",
       "      <th>Text</th>\n",
       "    </tr>\n",
       "  </thead>\n",
       "  <tbody>\n",
       "    <tr>\n",
       "      <th>0</th>\n",
       "      <td>1</td>\n",
       "      <td>B001E4KFG0</td>\n",
       "      <td>A3SGXH7AUHU8GW</td>\n",
       "      <td>delmartian</td>\n",
       "      <td>1</td>\n",
       "      <td>1</td>\n",
       "      <td>5</td>\n",
       "      <td>1303862400</td>\n",
       "      <td>Good Quality Dog Food</td>\n",
       "      <td>I have bought several of the Vitality canned d...</td>\n",
       "    </tr>\n",
       "    <tr>\n",
       "      <th>1</th>\n",
       "      <td>2</td>\n",
       "      <td>B00813GRG4</td>\n",
       "      <td>A1D87F6ZCVE5NK</td>\n",
       "      <td>dll pa</td>\n",
       "      <td>0</td>\n",
       "      <td>0</td>\n",
       "      <td>1</td>\n",
       "      <td>1346976000</td>\n",
       "      <td>Not as Advertised</td>\n",
       "      <td>Product arrived labeled as Jumbo Salted Peanut...</td>\n",
       "    </tr>\n",
       "    <tr>\n",
       "      <th>2</th>\n",
       "      <td>3</td>\n",
       "      <td>B000LQOCH0</td>\n",
       "      <td>ABXLMWJIXXAIN</td>\n",
       "      <td>Natalia Corres \"Natalia Corres\"</td>\n",
       "      <td>1</td>\n",
       "      <td>1</td>\n",
       "      <td>4</td>\n",
       "      <td>1219017600</td>\n",
       "      <td>\"Delight\" says it all</td>\n",
       "      <td>This is a confection that has been around a fe...</td>\n",
       "    </tr>\n",
       "    <tr>\n",
       "      <th>3</th>\n",
       "      <td>4</td>\n",
       "      <td>B000UA0QIQ</td>\n",
       "      <td>A395BORC6FGVXV</td>\n",
       "      <td>Karl</td>\n",
       "      <td>3</td>\n",
       "      <td>3</td>\n",
       "      <td>2</td>\n",
       "      <td>1307923200</td>\n",
       "      <td>Cough Medicine</td>\n",
       "      <td>If you are looking for the secret ingredient i...</td>\n",
       "    </tr>\n",
       "    <tr>\n",
       "      <th>4</th>\n",
       "      <td>5</td>\n",
       "      <td>B006K2ZZ7K</td>\n",
       "      <td>A1UQRSCLF8GW1T</td>\n",
       "      <td>Michael D. Bigham \"M. Wassir\"</td>\n",
       "      <td>0</td>\n",
       "      <td>0</td>\n",
       "      <td>5</td>\n",
       "      <td>1350777600</td>\n",
       "      <td>Great taffy</td>\n",
       "      <td>Great taffy at a great price.  There was a wid...</td>\n",
       "    </tr>\n",
       "  </tbody>\n",
       "</table>\n",
       "</div>"
      ],
      "text/plain": [
       "   Id   ProductId          UserId                      ProfileName  \\\n",
       "0   1  B001E4KFG0  A3SGXH7AUHU8GW                       delmartian   \n",
       "1   2  B00813GRG4  A1D87F6ZCVE5NK                           dll pa   \n",
       "2   3  B000LQOCH0   ABXLMWJIXXAIN  Natalia Corres \"Natalia Corres\"   \n",
       "3   4  B000UA0QIQ  A395BORC6FGVXV                             Karl   \n",
       "4   5  B006K2ZZ7K  A1UQRSCLF8GW1T    Michael D. Bigham \"M. Wassir\"   \n",
       "\n",
       "   HelpfulnessNumerator  HelpfulnessDenominator  Score        Time  \\\n",
       "0                     1                       1      5  1303862400   \n",
       "1                     0                       0      1  1346976000   \n",
       "2                     1                       1      4  1219017600   \n",
       "3                     3                       3      2  1307923200   \n",
       "4                     0                       0      5  1350777600   \n",
       "\n",
       "                 Summary                                               Text  \n",
       "0  Good Quality Dog Food  I have bought several of the Vitality canned d...  \n",
       "1      Not as Advertised  Product arrived labeled as Jumbo Salted Peanut...  \n",
       "2  \"Delight\" says it all  This is a confection that has been around a fe...  \n",
       "3         Cough Medicine  If you are looking for the secret ingredient i...  \n",
       "4            Great taffy  Great taffy at a great price.  There was a wid...  "
      ]
     },
     "execution_count": 10,
     "metadata": {},
     "output_type": "execute_result"
    }
   ],
   "source": [
    "data.head()"
   ]
  },
  {
   "cell_type": "code",
   "execution_count": 11,
   "id": "958bf7cb",
   "metadata": {},
   "outputs": [],
   "source": [
    "data = data.head(500)\n"
   ]
  },
  {
   "cell_type": "code",
   "execution_count": 12,
   "id": "9cd396c7",
   "metadata": {},
   "outputs": [
    {
     "data": {
      "text/plain": [
       "(500, 10)"
      ]
     },
     "execution_count": 12,
     "metadata": {},
     "output_type": "execute_result"
    }
   ],
   "source": [
    "data.shape"
   ]
  },
  {
   "cell_type": "code",
   "execution_count": 13,
   "id": "f524e8c6",
   "metadata": {},
   "outputs": [
    {
     "data": {
      "text/plain": [
       "5    339\n",
       "4     70\n",
       "3     37\n",
       "1     36\n",
       "2     18\n",
       "Name: Score, dtype: int64"
      ]
     },
     "execution_count": 13,
     "metadata": {},
     "output_type": "execute_result"
    }
   ],
   "source": [
    "ind = data['Score'].value_counts()\n",
    "ind "
   ]
  },
  {
   "cell_type": "code",
   "execution_count": 14,
   "id": "3409a1b6",
   "metadata": {},
   "outputs": [
    {
     "data": {
      "text/plain": [
       "1     36\n",
       "2     18\n",
       "3     37\n",
       "4     70\n",
       "5    339\n",
       "Name: Score, dtype: int64"
      ]
     },
     "execution_count": 14,
     "metadata": {},
     "output_type": "execute_result"
    }
   ],
   "source": [
    "ind = ind.sort_index()\n",
    "ind"
   ]
  },
  {
   "cell_type": "code",
   "execution_count": 15,
   "id": "047ec5ef",
   "metadata": {},
   "outputs": [
    {
     "name": "stdout",
     "output_type": "stream",
     "text": [
      "My husband is a Twizzlers addict.  We've bought these many times from Amazon because we're government employees living overseas and can't get them in the country we are assigned to.  They've always been fresh and tasty, packed well and arrive in a timely manner.\n"
     ]
    }
   ],
   "source": [
    "ex = data['Text'][20]\n",
    "print(ex)"
   ]
  },
  {
   "cell_type": "code",
   "execution_count": 16,
   "id": "f88226ce",
   "metadata": {},
   "outputs": [
    {
     "data": {
      "text/plain": [
       "['My', 'husband', 'is', 'a', 'Twizzlers', 'addict', '.', 'We', \"'ve\", 'bought']"
      ]
     },
     "execution_count": 16,
     "metadata": {},
     "output_type": "execute_result"
    }
   ],
   "source": [
    "tokens = nltk.word_tokenize(ex)\n",
    "tokens[:10]"
   ]
  },
  {
   "cell_type": "code",
   "execution_count": 17,
   "id": "9ed39b94",
   "metadata": {},
   "outputs": [
    {
     "data": {
      "text/plain": [
       "[('My', 'PRP$'),\n",
       " ('husband', 'NN'),\n",
       " ('is', 'VBZ'),\n",
       " ('a', 'DT'),\n",
       " ('Twizzlers', 'NNP'),\n",
       " ('addict', 'NN'),\n",
       " ('.', '.'),\n",
       " ('We', 'PRP'),\n",
       " (\"'ve\", 'VBP'),\n",
       " ('bought', 'VBN')]"
      ]
     },
     "execution_count": 17,
     "metadata": {},
     "output_type": "execute_result"
    }
   ],
   "source": [
    "tagged = nltk.pos_tag(tokens)\n",
    "tagged[:10]"
   ]
  },
  {
   "cell_type": "code",
   "execution_count": 25,
   "id": "a13aa834",
   "metadata": {},
   "outputs": [
    {
     "name": "stdout",
     "output_type": "stream",
     "text": [
      "(S\n",
      "  My/PRP$\n",
      "  husband/NN\n",
      "  is/VBZ\n",
      "  a/DT\n",
      "  Twizzlers/NNP\n",
      "  addict/NN\n",
      "  ./.\n",
      "  We/PRP\n",
      "  've/VBP\n",
      "  bought/VBN\n",
      "  these/DT\n",
      "  many/JJ\n",
      "  times/NNS\n",
      "  from/IN\n",
      "  (GPE Amazon/NNP)\n",
      "  because/IN\n",
      "  we/PRP\n",
      "  're/VBP\n",
      "  government/NN\n",
      "  employees/NNS\n",
      "  living/VBG\n",
      "  overseas/RB\n",
      "  and/CC\n",
      "  ca/MD\n",
      "  n't/RB\n",
      "  get/VB\n",
      "  them/PRP\n",
      "  in/IN\n",
      "  the/DT\n",
      "  country/NN\n",
      "  we/PRP\n",
      "  are/VBP\n",
      "  assigned/VBN\n",
      "  to/TO\n",
      "  ./.\n",
      "  They/PRP\n",
      "  've/VBP\n",
      "  always/RB\n",
      "  been/VBN\n",
      "  fresh/JJ\n",
      "  and/CC\n",
      "  tasty/JJ\n",
      "  ,/,\n",
      "  packed/VBN\n",
      "  well/RB\n",
      "  and/CC\n",
      "  arrive/JJ\n",
      "  in/IN\n",
      "  a/DT\n",
      "  timely/JJ\n",
      "  manner/NN\n",
      "  ./.)\n"
     ]
    }
   ],
   "source": [
    "parts = nltk.chunk.ne_chunk(tagged)\n",
    "parts.pprint()"
   ]
  },
  {
   "cell_type": "code",
   "execution_count": 27,
   "id": "a1014aa2",
   "metadata": {},
   "outputs": [
    {
     "name": "stdout",
     "output_type": "stream",
     "text": [
      "Requirement already satisfied: transformers in c:\\users\\gopik\\anaconda3\\lib\\site-packages (2.1.1)\n",
      "Requirement already satisfied: numpy in c:\\users\\gopik\\anaconda3\\lib\\site-packages (from transformers) (1.24.3)\n",
      "Requirement already satisfied: boto3 in c:\\users\\gopik\\anaconda3\\lib\\site-packages (from transformers) (1.24.28)\n",
      "Requirement already satisfied: requests in c:\\users\\gopik\\anaconda3\\lib\\site-packages (from transformers) (2.31.0)\n",
      "Requirement already satisfied: tqdm in c:\\users\\gopik\\anaconda3\\lib\\site-packages (from transformers) (4.65.0)\n",
      "Requirement already satisfied: regex in c:\\users\\gopik\\anaconda3\\lib\\site-packages (from transformers) (2022.7.9)\n",
      "Collecting sentencepiece (from transformers)\n",
      "  Downloading sentencepiece-0.1.99-cp311-cp311-win_amd64.whl (977 kB)\n",
      "     ---------------------------------------- 0.0/977.5 kB ? eta -:--:--\n",
      "     ---------------------------------------- 10.2/977.5 kB ? eta -:--:--\n",
      "     ---- --------------------------------- 112.6/977.5 kB 1.7 MB/s eta 0:00:01\n",
      "     --------- ---------------------------- 256.0/977.5 kB 2.3 MB/s eta 0:00:01\n",
      "     -------------- ----------------------- 368.6/977.5 kB 2.3 MB/s eta 0:00:01\n",
      "     -------------------- ----------------- 522.2/977.5 kB 2.5 MB/s eta 0:00:01\n",
      "     -------------------- ----------------- 532.5/977.5 kB 2.1 MB/s eta 0:00:01\n",
      "     ----------------------------- -------- 757.8/977.5 kB 2.5 MB/s eta 0:00:01\n",
      "     ---------------------------------- --- 880.6/977.5 kB 2.4 MB/s eta 0:00:01\n",
      "     -------------------------------------- 977.5/977.5 kB 2.5 MB/s eta 0:00:00\n",
      "Requirement already satisfied: sacremoses in c:\\users\\gopik\\anaconda3\\lib\\site-packages (from transformers) (0.0.43)\n",
      "Requirement already satisfied: botocore<1.28.0,>=1.27.28 in c:\\users\\gopik\\anaconda3\\lib\\site-packages (from boto3->transformers) (1.27.59)\n",
      "Requirement already satisfied: jmespath<2.0.0,>=0.7.1 in c:\\users\\gopik\\anaconda3\\lib\\site-packages (from boto3->transformers) (0.10.0)\n",
      "Requirement already satisfied: s3transfer<0.7.0,>=0.6.0 in c:\\users\\gopik\\anaconda3\\lib\\site-packages (from boto3->transformers) (0.6.0)\n",
      "Requirement already satisfied: charset-normalizer<4,>=2 in c:\\users\\gopik\\anaconda3\\lib\\site-packages (from requests->transformers) (2.0.4)\n",
      "Requirement already satisfied: idna<4,>=2.5 in c:\\users\\gopik\\anaconda3\\lib\\site-packages (from requests->transformers) (3.4)\n",
      "Requirement already satisfied: urllib3<3,>=1.21.1 in c:\\users\\gopik\\anaconda3\\lib\\site-packages (from requests->transformers) (1.26.16)\n",
      "Requirement already satisfied: certifi>=2017.4.17 in c:\\users\\gopik\\anaconda3\\lib\\site-packages (from requests->transformers) (2023.7.22)\n",
      "Requirement already satisfied: six in c:\\users\\gopik\\anaconda3\\lib\\site-packages (from sacremoses->transformers) (1.16.0)\n",
      "Requirement already satisfied: click in c:\\users\\gopik\\anaconda3\\lib\\site-packages (from sacremoses->transformers) (8.0.4)\n",
      "Requirement already satisfied: joblib in c:\\users\\gopik\\anaconda3\\lib\\site-packages (from sacremoses->transformers) (1.2.0)\n",
      "Requirement already satisfied: colorama in c:\\users\\gopik\\anaconda3\\lib\\site-packages (from tqdm->transformers) (0.4.6)\n",
      "Requirement already satisfied: python-dateutil<3.0.0,>=2.1 in c:\\users\\gopik\\anaconda3\\lib\\site-packages (from botocore<1.28.0,>=1.27.28->boto3->transformers) (2.8.2)\n",
      "Installing collected packages: sentencepiece\n",
      "Successfully installed sentencepiece-0.1.99\n",
      "Note: you may need to restart the kernel to use updated packages.\n"
     ]
    }
   ],
   "source": [
    "pip install transformers"
   ]
  },
  {
   "cell_type": "code",
   "execution_count": 1,
   "id": "ed109b52",
   "metadata": {
    "scrolled": true
   },
   "outputs": [
    {
     "name": "stderr",
     "output_type": "stream",
     "text": [
      "Neither PyTorch nor TensorFlow >= 2.0 have been found.Models won't be available and only tokenizers, configurationand file/data utilities can be used.\n"
     ]
    },
    {
     "ename": "ImportError",
     "evalue": "cannot import name 'AutoModelForSequenceClassification' from 'transformers' (C:\\Users\\gopik\\anaconda3\\Lib\\site-packages\\transformers\\__init__.py)",
     "output_type": "error",
     "traceback": [
      "\u001b[1;31m---------------------------------------------------------------------------\u001b[0m",
      "\u001b[1;31mImportError\u001b[0m                               Traceback (most recent call last)",
      "Cell \u001b[1;32mIn[1], line 1\u001b[0m\n\u001b[1;32m----> 1\u001b[0m \u001b[38;5;28;01mfrom\u001b[39;00m \u001b[38;5;21;01mtransformers\u001b[39;00m \u001b[38;5;28;01mimport\u001b[39;00m AutoTokenizer, AutoModelForSequenceClassification\n",
      "\u001b[1;31mImportError\u001b[0m: cannot import name 'AutoModelForSequenceClassification' from 'transformers' (C:\\Users\\gopik\\anaconda3\\Lib\\site-packages\\transformers\\__init__.py)"
     ]
    }
   ],
   "source": [
    "from transformers import AutoTokenizer, AutoModelForSequenceClassification"
   ]
  },
  {
   "cell_type": "code",
   "execution_count": 2,
   "id": "4c500ef2",
   "metadata": {},
   "outputs": [
    {
     "name": "stdout",
     "output_type": "stream",
     "text": [
      "Requirement already satisfied: transformers in c:\\users\\gopik\\anaconda3\\lib\\site-packages (2.1.1)\n",
      "Collecting transformers\n",
      "  Obtaining dependency information for transformers from https://files.pythonhosted.org/packages/e1/9d/4d9fe5c3b820db10773392ac5f4a0c8dab668f70b245ce2ce09785166128/transformers-4.33.0-py3-none-any.whl.metadata\n",
      "  Downloading transformers-4.33.0-py3-none-any.whl.metadata (119 kB)\n",
      "     ---------------------------------------- 0.0/119.9 kB ? eta -:--:--\n",
      "     ------------------- ------------------- 61.4/119.9 kB 1.7 MB/s eta 0:00:01\n",
      "     ----------------------------- --------- 92.2/119.9 kB 1.7 MB/s eta 0:00:01\n",
      "     -------------------------------------- 119.9/119.9 kB 1.2 MB/s eta 0:00:00\n",
      "Requirement already satisfied: filelock in c:\\users\\gopik\\anaconda3\\lib\\site-packages (from transformers) (3.9.0)\n",
      "Collecting huggingface-hub<1.0,>=0.15.1 (from transformers)\n",
      "  Obtaining dependency information for huggingface-hub<1.0,>=0.15.1 from https://files.pythonhosted.org/packages/7f/c4/adcbe9a696c135578cabcbdd7331332daad4d49b7c43688bc2d36b3a47d2/huggingface_hub-0.16.4-py3-none-any.whl.metadata\n",
      "  Downloading huggingface_hub-0.16.4-py3-none-any.whl.metadata (12 kB)\n",
      "Requirement already satisfied: numpy>=1.17 in c:\\users\\gopik\\anaconda3\\lib\\site-packages (from transformers) (1.24.3)\n",
      "Requirement already satisfied: packaging>=20.0 in c:\\users\\gopik\\anaconda3\\lib\\site-packages (from transformers) (23.0)\n",
      "Requirement already satisfied: pyyaml>=5.1 in c:\\users\\gopik\\anaconda3\\lib\\site-packages (from transformers) (6.0)\n",
      "Requirement already satisfied: regex!=2019.12.17 in c:\\users\\gopik\\anaconda3\\lib\\site-packages (from transformers) (2022.7.9)\n",
      "Requirement already satisfied: requests in c:\\users\\gopik\\anaconda3\\lib\\site-packages (from transformers) (2.31.0)\n",
      "Collecting tokenizers!=0.11.3,<0.14,>=0.11.1 (from transformers)\n",
      "  Downloading tokenizers-0.13.3-cp311-cp311-win_amd64.whl (3.5 MB)\n",
      "     ---------------------------------------- 0.0/3.5 MB ? eta -:--:--\n",
      "     ---------------------------------------- 0.0/3.5 MB ? eta -:--:--\n",
      "     - -------------------------------------- 0.2/3.5 MB 2.4 MB/s eta 0:00:02\n",
      "     --- ------------------------------------ 0.3/3.5 MB 2.1 MB/s eta 0:00:02\n",
      "     --- ------------------------------------ 0.3/3.5 MB 2.0 MB/s eta 0:00:02\n",
      "     ----- ---------------------------------- 0.5/3.5 MB 2.1 MB/s eta 0:00:02\n",
      "     ------ --------------------------------- 0.5/3.5 MB 2.2 MB/s eta 0:00:02\n",
      "     ------ --------------------------------- 0.6/3.5 MB 1.8 MB/s eta 0:00:02\n",
      "     -------- ------------------------------- 0.7/3.5 MB 1.9 MB/s eta 0:00:02\n",
      "     --------- ------------------------------ 0.8/3.5 MB 1.8 MB/s eta 0:00:02\n",
      "     ---------- ----------------------------- 0.9/3.5 MB 1.9 MB/s eta 0:00:02\n",
      "     ---------- ----------------------------- 0.9/3.5 MB 1.9 MB/s eta 0:00:02\n",
      "     ----------- ---------------------------- 1.0/3.5 MB 1.9 MB/s eta 0:00:02\n",
      "     ----------- ---------------------------- 1.0/3.5 MB 1.7 MB/s eta 0:00:02\n",
      "     ----------- ---------------------------- 1.0/3.5 MB 1.7 MB/s eta 0:00:02\n",
      "     ------------- -------------------------- 1.2/3.5 MB 1.6 MB/s eta 0:00:02\n",
      "     ------------- -------------------------- 1.2/3.5 MB 1.6 MB/s eta 0:00:02\n",
      "     -------------- ------------------------- 1.3/3.5 MB 1.7 MB/s eta 0:00:02\n",
      "     ---------------- ----------------------- 1.4/3.5 MB 1.7 MB/s eta 0:00:02\n",
      "     ---------------- ----------------------- 1.5/3.5 MB 1.6 MB/s eta 0:00:02\n",
      "     ----------------- ---------------------- 1.5/3.5 MB 1.6 MB/s eta 0:00:02\n",
      "     ------------------ --------------------- 1.6/3.5 MB 1.6 MB/s eta 0:00:02\n",
      "     ------------------- -------------------- 1.7/3.5 MB 1.6 MB/s eta 0:00:02\n",
      "     ------------------- -------------------- 1.7/3.5 MB 1.6 MB/s eta 0:00:02\n",
      "     -------------------- ------------------- 1.8/3.5 MB 1.6 MB/s eta 0:00:02\n",
      "     --------------------- ------------------ 1.9/3.5 MB 1.6 MB/s eta 0:00:02\n",
      "     ---------------------- ----------------- 2.0/3.5 MB 1.6 MB/s eta 0:00:01\n",
      "     ------------------------ --------------- 2.1/3.5 MB 1.7 MB/s eta 0:00:01\n",
      "     ------------------------- -------------- 2.2/3.5 MB 1.7 MB/s eta 0:00:01\n",
      "     -------------------------- ------------- 2.3/3.5 MB 1.7 MB/s eta 0:00:01\n",
      "     ---------------------------- ----------- 2.5/3.5 MB 1.7 MB/s eta 0:00:01\n",
      "     ------------------------------ --------- 2.6/3.5 MB 1.8 MB/s eta 0:00:01\n",
      "     ------------------------------- -------- 2.7/3.5 MB 1.8 MB/s eta 0:00:01\n",
      "     --------------------------------- ------ 2.9/3.5 MB 1.8 MB/s eta 0:00:01\n",
      "     ---------------------------------- ----- 3.0/3.5 MB 1.9 MB/s eta 0:00:01\n",
      "     ------------------------------------ --- 3.1/3.5 MB 1.9 MB/s eta 0:00:01\n",
      "     ------------------------------------- -- 3.2/3.5 MB 1.9 MB/s eta 0:00:01\n",
      "     -------------------------------------- - 3.4/3.5 MB 1.9 MB/s eta 0:00:01\n",
      "     ---------------------------------------- 3.5/3.5 MB 1.9 MB/s eta 0:00:00\n",
      "Collecting safetensors>=0.3.1 (from transformers)\n",
      "  Obtaining dependency information for safetensors>=0.3.1 from https://files.pythonhosted.org/packages/f3/c9/6f14c11265ecc9ff06fddae423eee40061c3841a1e44ca1e7b1bb8ce3b48/safetensors-0.3.3-cp311-cp311-win_amd64.whl.metadata\n",
      "  Downloading safetensors-0.3.3-cp311-cp311-win_amd64.whl.metadata (4.8 kB)\n",
      "Requirement already satisfied: tqdm>=4.27 in c:\\users\\gopik\\anaconda3\\lib\\site-packages (from transformers) (4.65.0)\n",
      "Requirement already satisfied: fsspec in c:\\users\\gopik\\anaconda3\\lib\\site-packages (from huggingface-hub<1.0,>=0.15.1->transformers) (2023.3.0)\n",
      "Requirement already satisfied: typing-extensions>=3.7.4.3 in c:\\users\\gopik\\anaconda3\\lib\\site-packages (from huggingface-hub<1.0,>=0.15.1->transformers) (4.7.1)\n",
      "Requirement already satisfied: colorama in c:\\users\\gopik\\anaconda3\\lib\\site-packages (from tqdm>=4.27->transformers) (0.4.6)\n",
      "Requirement already satisfied: charset-normalizer<4,>=2 in c:\\users\\gopik\\anaconda3\\lib\\site-packages (from requests->transformers) (2.0.4)\n",
      "Requirement already satisfied: idna<4,>=2.5 in c:\\users\\gopik\\anaconda3\\lib\\site-packages (from requests->transformers) (3.4)\n",
      "Requirement already satisfied: urllib3<3,>=1.21.1 in c:\\users\\gopik\\anaconda3\\lib\\site-packages (from requests->transformers) (1.26.16)\n",
      "Requirement already satisfied: certifi>=2017.4.17 in c:\\users\\gopik\\anaconda3\\lib\\site-packages (from requests->transformers) (2023.7.22)\n",
      "Downloading transformers-4.33.0-py3-none-any.whl (7.6 MB)\n",
      "   ---------------------------------------- 0.0/7.6 MB ? eta -:--:--\n",
      "    --------------------------------------- 0.1/7.6 MB 3.6 MB/s eta 0:00:03\n",
      "   - -------------------------------------- 0.3/7.6 MB 4.2 MB/s eta 0:00:02\n",
      "   -- ------------------------------------- 0.4/7.6 MB 3.2 MB/s eta 0:00:03\n",
      "   -- ------------------------------------- 0.5/7.6 MB 3.3 MB/s eta 0:00:03\n",
      "   --- ------------------------------------ 0.7/7.6 MB 3.2 MB/s eta 0:00:03\n",
      "   ---- ----------------------------------- 0.8/7.6 MB 3.0 MB/s eta 0:00:03\n",
      "   ---- ----------------------------------- 0.8/7.6 MB 2.8 MB/s eta 0:00:03\n",
      "   ----- ---------------------------------- 1.0/7.6 MB 2.8 MB/s eta 0:00:03\n",
      "   ----- ---------------------------------- 1.1/7.6 MB 2.8 MB/s eta 0:00:03\n",
      "   ------ --------------------------------- 1.2/7.6 MB 2.9 MB/s eta 0:00:03\n",
      "   ------- -------------------------------- 1.4/7.6 MB 2.8 MB/s eta 0:00:03\n",
      "   ------- -------------------------------- 1.5/7.6 MB 2.8 MB/s eta 0:00:03\n",
      "   -------- ------------------------------- 1.6/7.6 MB 2.8 MB/s eta 0:00:03\n",
      "   --------- ------------------------------ 1.7/7.6 MB 2.7 MB/s eta 0:00:03\n",
      "   --------- ------------------------------ 1.8/7.6 MB 2.7 MB/s eta 0:00:03\n",
      "   --------- ------------------------------ 1.8/7.6 MB 2.5 MB/s eta 0:00:03\n",
      "   ---------- ----------------------------- 2.0/7.6 MB 2.6 MB/s eta 0:00:03\n",
      "   ----------- ---------------------------- 2.1/7.6 MB 2.6 MB/s eta 0:00:03\n",
      "   ----------- ---------------------------- 2.2/7.6 MB 2.6 MB/s eta 0:00:03\n",
      "   ------------ --------------------------- 2.4/7.6 MB 2.6 MB/s eta 0:00:03\n",
      "   ------------- -------------------------- 2.5/7.6 MB 2.6 MB/s eta 0:00:02\n",
      "   ------------- -------------------------- 2.6/7.6 MB 2.6 MB/s eta 0:00:02\n",
      "   -------------- ------------------------- 2.7/7.6 MB 2.6 MB/s eta 0:00:02\n",
      "   -------------- ------------------------- 2.8/7.6 MB 2.5 MB/s eta 0:00:02\n",
      "   --------------- ------------------------ 2.9/7.6 MB 2.5 MB/s eta 0:00:02\n",
      "   --------------- ------------------------ 2.9/7.6 MB 2.5 MB/s eta 0:00:02\n",
      "   --------------- ------------------------ 3.0/7.6 MB 2.4 MB/s eta 0:00:02\n",
      "   ---------------- ----------------------- 3.1/7.6 MB 2.4 MB/s eta 0:00:02\n",
      "   ---------------- ----------------------- 3.1/7.6 MB 2.4 MB/s eta 0:00:02\n",
      "   ---------------- ----------------------- 3.2/7.6 MB 2.3 MB/s eta 0:00:02\n",
      "   ----------------- ---------------------- 3.3/7.6 MB 2.3 MB/s eta 0:00:02\n",
      "   ----------------- ---------------------- 3.4/7.6 MB 2.3 MB/s eta 0:00:02\n",
      "   ------------------ --------------------- 3.5/7.6 MB 2.3 MB/s eta 0:00:02\n",
      "   ------------------ --------------------- 3.6/7.6 MB 2.3 MB/s eta 0:00:02\n",
      "   ------------------- -------------------- 3.6/7.6 MB 2.3 MB/s eta 0:00:02\n",
      "   ------------------- -------------------- 3.7/7.6 MB 2.2 MB/s eta 0:00:02\n",
      "   ------------------- -------------------- 3.8/7.6 MB 2.2 MB/s eta 0:00:02\n",
      "   -------------------- ------------------- 3.9/7.6 MB 2.2 MB/s eta 0:00:02\n",
      "   -------------------- ------------------- 4.0/7.6 MB 2.2 MB/s eta 0:00:02\n",
      "   --------------------- ------------------ 4.0/7.6 MB 2.2 MB/s eta 0:00:02\n",
      "   --------------------- ------------------ 4.1/7.6 MB 2.2 MB/s eta 0:00:02\n",
      "   --------------------- ------------------ 4.2/7.6 MB 2.2 MB/s eta 0:00:02\n",
      "   ---------------------- ----------------- 4.2/7.6 MB 2.1 MB/s eta 0:00:02\n",
      "   ---------------------- ----------------- 4.3/7.6 MB 2.1 MB/s eta 0:00:02\n",
      "   ---------------------- ----------------- 4.3/7.6 MB 2.1 MB/s eta 0:00:02\n",
      "   ---------------------- ----------------- 4.3/7.6 MB 2.1 MB/s eta 0:00:02\n",
      "   ---------------------- ----------------- 4.3/7.6 MB 2.0 MB/s eta 0:00:02\n",
      "   ---------------------- ----------------- 4.4/7.6 MB 2.0 MB/s eta 0:00:02\n",
      "   ----------------------- ---------------- 4.5/7.6 MB 2.0 MB/s eta 0:00:02\n",
      "   ----------------------- ---------------- 4.5/7.6 MB 2.0 MB/s eta 0:00:02\n",
      "   ------------------------ --------------- 4.6/7.6 MB 1.9 MB/s eta 0:00:02\n",
      "   ------------------------ --------------- 4.7/7.6 MB 1.9 MB/s eta 0:00:02\n",
      "   ------------------------ --------------- 4.7/7.6 MB 1.9 MB/s eta 0:00:02\n",
      "   ------------------------ --------------- 4.8/7.6 MB 1.9 MB/s eta 0:00:02\n",
      "   ------------------------- -------------- 4.8/7.6 MB 1.9 MB/s eta 0:00:02\n",
      "   ------------------------- -------------- 4.8/7.6 MB 1.9 MB/s eta 0:00:02\n",
      "   ------------------------- -------------- 4.9/7.6 MB 1.8 MB/s eta 0:00:02\n",
      "   ------------------------- -------------- 4.9/7.6 MB 1.8 MB/s eta 0:00:02\n",
      "   -------------------------- ------------- 5.0/7.6 MB 1.8 MB/s eta 0:00:02\n",
      "   -------------------------- ------------- 5.1/7.6 MB 1.8 MB/s eta 0:00:02\n",
      "   -------------------------- ------------- 5.1/7.6 MB 1.8 MB/s eta 0:00:02\n",
      "   --------------------------- ------------ 5.2/7.6 MB 1.8 MB/s eta 0:00:02\n",
      "   --------------------------- ------------ 5.3/7.6 MB 1.8 MB/s eta 0:00:02\n",
      "   --------------------------- ------------ 5.3/7.6 MB 1.8 MB/s eta 0:00:02\n",
      "   ---------------------------- ----------- 5.4/7.6 MB 1.8 MB/s eta 0:00:02\n",
      "   ---------------------------- ----------- 5.4/7.6 MB 1.8 MB/s eta 0:00:02\n",
      "   ---------------------------- ----------- 5.5/7.6 MB 1.8 MB/s eta 0:00:02\n",
      "   ----------------------------- ---------- 5.6/7.6 MB 1.7 MB/s eta 0:00:02\n",
      "   ----------------------------- ---------- 5.6/7.6 MB 1.7 MB/s eta 0:00:02\n",
      "   ----------------------------- ---------- 5.7/7.6 MB 1.7 MB/s eta 0:00:02\n",
      "   ------------------------------ --------- 5.8/7.6 MB 1.7 MB/s eta 0:00:02\n",
      "   ------------------------------ --------- 5.9/7.6 MB 1.7 MB/s eta 0:00:02\n",
      "   ------------------------------ --------- 5.9/7.6 MB 1.7 MB/s eta 0:00:01\n",
      "   ------------------------------- -------- 6.0/7.6 MB 1.7 MB/s eta 0:00:01\n",
      "   ------------------------------- -------- 6.0/7.6 MB 1.7 MB/s eta 0:00:01\n",
      "   ------------------------------- -------- 6.1/7.6 MB 1.7 MB/s eta 0:00:01\n",
      "   ------------------------------- -------- 6.1/7.6 MB 1.7 MB/s eta 0:00:01\n",
      "   -------------------------------- ------- 6.1/7.6 MB 1.7 MB/s eta 0:00:01\n",
      "   -------------------------------- ------- 6.2/7.6 MB 1.7 MB/s eta 0:00:01\n",
      "   -------------------------------- ------- 6.2/7.6 MB 1.7 MB/s eta 0:00:01\n",
      "   -------------------------------- ------- 6.3/7.6 MB 1.7 MB/s eta 0:00:01\n",
      "   --------------------------------- ------ 6.3/7.6 MB 1.6 MB/s eta 0:00:01\n",
      "   --------------------------------- ------ 6.3/7.6 MB 1.6 MB/s eta 0:00:01\n",
      "   --------------------------------- ------ 6.3/7.6 MB 1.6 MB/s eta 0:00:01\n",
      "   --------------------------------- ------ 6.3/7.6 MB 1.6 MB/s eta 0:00:01\n",
      "   --------------------------------- ------ 6.4/7.6 MB 1.6 MB/s eta 0:00:01\n",
      "   --------------------------------- ------ 6.4/7.6 MB 1.6 MB/s eta 0:00:01\n",
      "   --------------------------------- ------ 6.4/7.6 MB 1.6 MB/s eta 0:00:01\n",
      "   --------------------------------- ------ 6.5/7.6 MB 1.6 MB/s eta 0:00:01\n",
      "   ---------------------------------- ----- 6.5/7.6 MB 1.6 MB/s eta 0:00:01\n",
      "   ---------------------------------- ----- 6.5/7.6 MB 1.5 MB/s eta 0:00:01\n",
      "   ---------------------------------- ----- 6.6/7.6 MB 1.5 MB/s eta 0:00:01\n",
      "   ---------------------------------- ----- 6.6/7.6 MB 1.5 MB/s eta 0:00:01\n",
      "   ----------------------------------- ---- 6.7/7.6 MB 1.5 MB/s eta 0:00:01\n",
      "   ----------------------------------- ---- 6.7/7.6 MB 1.5 MB/s eta 0:00:01\n",
      "   ----------------------------------- ---- 6.8/7.6 MB 1.5 MB/s eta 0:00:01\n",
      "   ----------------------------------- ---- 6.8/7.6 MB 1.5 MB/s eta 0:00:01\n",
      "   ----------------------------------- ---- 6.9/7.6 MB 1.5 MB/s eta 0:00:01\n",
      "   ------------------------------------ --- 6.9/7.6 MB 1.5 MB/s eta 0:00:01\n",
      "   ------------------------------------ --- 7.0/7.6 MB 1.5 MB/s eta 0:00:01\n",
      "   ------------------------------------ --- 7.0/7.6 MB 1.5 MB/s eta 0:00:01\n",
      "   ------------------------------------- -- 7.1/7.6 MB 1.5 MB/s eta 0:00:01\n",
      "   ------------------------------------- -- 7.1/7.6 MB 1.5 MB/s eta 0:00:01\n",
      "   ------------------------------------- -- 7.2/7.6 MB 1.5 MB/s eta 0:00:01\n",
      "   ------------------------------------- -- 7.2/7.6 MB 1.5 MB/s eta 0:00:01\n",
      "   -------------------------------------- - 7.3/7.6 MB 1.5 MB/s eta 0:00:01\n",
      "   -------------------------------------- - 7.3/7.6 MB 1.5 MB/s eta 0:00:01\n",
      "   -------------------------------------- - 7.4/7.6 MB 1.5 MB/s eta 0:00:01\n",
      "   ---------------------------------------  7.5/7.6 MB 1.5 MB/s eta 0:00:01\n",
      "   ---------------------------------------  7.5/7.6 MB 1.5 MB/s eta 0:00:01\n",
      "   ---------------------------------------  7.6/7.6 MB 1.5 MB/s eta 0:00:01\n",
      "   ---------------------------------------  7.6/7.6 MB 1.5 MB/s eta 0:00:01\n",
      "   ---------------------------------------- 7.6/7.6 MB 1.5 MB/s eta 0:00:00\n",
      "Downloading huggingface_hub-0.16.4-py3-none-any.whl (268 kB)\n",
      "   ---------------------------------------- 0.0/268.8 kB ? eta -:--:--\n",
      "   --------- ------------------------------ 61.4/268.8 kB 1.1 MB/s eta 0:00:01\n",
      "   --------------------- ------------------ 143.4/268.8 kB 1.7 MB/s eta 0:00:01\n",
      "   ------------------------------ --------- 204.8/268.8 kB 1.4 MB/s eta 0:00:01\n",
      "   ---------------------------------------- 268.8/268.8 kB 1.4 MB/s eta 0:00:00\n",
      "Downloading safetensors-0.3.3-cp311-cp311-win_amd64.whl (266 kB)\n",
      "   ---------------------------------------- 0.0/266.1 kB ? eta -:--:--\n",
      "   ------------ --------------------------- 81.9/266.1 kB 2.3 MB/s eta 0:00:01\n",
      "   --------------------- ------------------ 143.4/266.1 kB 1.7 MB/s eta 0:00:01\n",
      "   ------------------------------ --------- 204.8/266.1 kB 1.8 MB/s eta 0:00:01\n",
      "   ---------------------------------------- 266.1/266.1 kB 1.6 MB/s eta 0:00:00\n",
      "Installing collected packages: tokenizers, safetensors, huggingface-hub, transformers\n",
      "  Attempting uninstall: transformers\n",
      "    Found existing installation: transformers 2.1.1\n",
      "    Uninstalling transformers-2.1.1:\n",
      "      Successfully uninstalled transformers-2.1.1\n",
      "Successfully installed huggingface-hub-0.16.4 safetensors-0.3.3 tokenizers-0.13.3 transformers-4.33.0\n",
      "Note: you may need to restart the kernel to use updated packages.\n"
     ]
    }
   ],
   "source": [
    "pip install transformers --upgrade"
   ]
  },
  {
   "cell_type": "code",
   "execution_count": 1,
   "id": "e085e2af",
   "metadata": {},
   "outputs": [
    {
     "name": "stdout",
     "output_type": "stream",
     "text": [
      "Name: transformers\n",
      "Version: 4.33.0\n",
      "Summary: State-of-the-art Machine Learning for JAX, PyTorch and TensorFlow\n",
      "Home-page: https://github.com/huggingface/transformers\n",
      "Author: The Hugging Face team (past and future) with the help of all our contributors (https://github.com/huggingface/transformers/graphs/contributors)\n",
      "Author-email: transformers@huggingface.co\n",
      "License: Apache 2.0 License\n",
      "Location: C:\\Users\\gopik\\anaconda3\\Lib\\site-packages\n",
      "Requires: filelock, huggingface-hub, numpy, packaging, pyyaml, regex, requests, safetensors, tokenizers, tqdm\n",
      "Required-by: \n",
      "Note: you may need to restart the kernel to use updated packages.\n"
     ]
    }
   ],
   "source": [
    "pip show transformers"
   ]
  },
  {
   "cell_type": "code",
   "execution_count": 1,
   "id": "53f8f5f7",
   "metadata": {},
   "outputs": [
    {
     "name": "stderr",
     "output_type": "stream",
     "text": [
      "None of PyTorch, TensorFlow >= 2.0, or Flax have been found. Models won't be available and only tokenizers, configuration and file/data utilities can be used.\n"
     ]
    }
   ],
   "source": [
    "from transformers import AutoTokenizer, AutoModelForSequenceClassification\n"
   ]
  },
  {
   "cell_type": "code",
   "execution_count": 2,
   "id": "1f91bed5",
   "metadata": {},
   "outputs": [],
   "source": [
    "from nltk.sentiment import SentimentIntensityAnalyzer\n",
    "from tqdm.notebook import tqdm\n",
    "\n",
    "sia = SentimentIntensityAnalyzer()"
   ]
  },
  {
   "cell_type": "code",
   "execution_count": 3,
   "id": "7bdc225f",
   "metadata": {},
   "outputs": [
    {
     "data": {
      "text/plain": [
       "{'neg': 0.0, 'neu': 0.318, 'pos': 0.682, 'compound': 0.6468}"
      ]
     },
     "execution_count": 3,
     "metadata": {},
     "output_type": "execute_result"
    }
   ],
   "source": [
    "sia.polarity_scores('I am so happy!')"
   ]
  },
  {
   "cell_type": "code",
   "execution_count": 4,
   "id": "798f23ad",
   "metadata": {},
   "outputs": [
    {
     "data": {
      "text/plain": [
       "{'neg': 0.451, 'neu': 0.549, 'pos': 0.0, 'compound': -0.6249}"
      ]
     },
     "execution_count": 4,
     "metadata": {},
     "output_type": "execute_result"
    }
   ],
   "source": [
    "sia.polarity_scores('This is the worst thing ever.')"
   ]
  },
  {
   "cell_type": "code",
   "execution_count": 18,
   "id": "572c7ea5",
   "metadata": {},
   "outputs": [
    {
     "data": {
      "text/plain": [
       "{'neg': 0.0, 'neu': 0.865, 'pos': 0.135, 'compound': 0.6249}"
      ]
     },
     "execution_count": 18,
     "metadata": {},
     "output_type": "execute_result"
    }
   ],
   "source": [
    "sia.polarity_scores(ex)"
   ]
  },
  {
   "cell_type": "code",
   "execution_count": 20,
   "id": "acd63a4f",
   "metadata": {},
   "outputs": [
    {
     "data": {
      "application/vnd.jupyter.widget-view+json": {
       "model_id": "a1183b0bb03e412fa6d6e1d40e12dcb6",
       "version_major": 2,
       "version_minor": 0
      },
      "text/plain": [
       "  0%|          | 0/500 [00:00<?, ?it/s]"
      ]
     },
     "metadata": {},
     "output_type": "display_data"
    }
   ],
   "source": [
    "res = {}\n",
    "for i, row in tqdm(data.iterrows(), total=len(data)):\n",
    "    text = row['Text']\n",
    "    myid = row['Id']\n",
    "    res[myid] = sia.polarity_scores(text)"
   ]
  },
  {
   "cell_type": "code",
   "execution_count": 22,
   "id": "64c67163",
   "metadata": {},
   "outputs": [],
   "source": [
    "vaders = pd.DataFrame(res).T\n",
    "vaders = vaders.reset_index().rename(columns={'index': 'Id'})\n",
    "vaders = vaders.merge(data, how='left')"
   ]
  },
  {
   "cell_type": "code",
   "execution_count": 23,
   "id": "b7b18543",
   "metadata": {},
   "outputs": [
    {
     "data": {
      "text/html": [
       "<div>\n",
       "<style scoped>\n",
       "    .dataframe tbody tr th:only-of-type {\n",
       "        vertical-align: middle;\n",
       "    }\n",
       "\n",
       "    .dataframe tbody tr th {\n",
       "        vertical-align: top;\n",
       "    }\n",
       "\n",
       "    .dataframe thead th {\n",
       "        text-align: right;\n",
       "    }\n",
       "</style>\n",
       "<table border=\"1\" class=\"dataframe\">\n",
       "  <thead>\n",
       "    <tr style=\"text-align: right;\">\n",
       "      <th></th>\n",
       "      <th>Id</th>\n",
       "      <th>neg</th>\n",
       "      <th>neu</th>\n",
       "      <th>pos</th>\n",
       "      <th>compound</th>\n",
       "      <th>ProductId</th>\n",
       "      <th>UserId</th>\n",
       "      <th>ProfileName</th>\n",
       "      <th>HelpfulnessNumerator</th>\n",
       "      <th>HelpfulnessDenominator</th>\n",
       "      <th>Score</th>\n",
       "      <th>Time</th>\n",
       "      <th>Summary</th>\n",
       "      <th>Text</th>\n",
       "    </tr>\n",
       "  </thead>\n",
       "  <tbody>\n",
       "    <tr>\n",
       "      <th>0</th>\n",
       "      <td>1</td>\n",
       "      <td>0.000</td>\n",
       "      <td>0.695</td>\n",
       "      <td>0.305</td>\n",
       "      <td>0.9441</td>\n",
       "      <td>B001E4KFG0</td>\n",
       "      <td>A3SGXH7AUHU8GW</td>\n",
       "      <td>delmartian</td>\n",
       "      <td>1</td>\n",
       "      <td>1</td>\n",
       "      <td>5</td>\n",
       "      <td>1303862400</td>\n",
       "      <td>Good Quality Dog Food</td>\n",
       "      <td>I have bought several of the Vitality canned d...</td>\n",
       "    </tr>\n",
       "    <tr>\n",
       "      <th>1</th>\n",
       "      <td>2</td>\n",
       "      <td>0.138</td>\n",
       "      <td>0.862</td>\n",
       "      <td>0.000</td>\n",
       "      <td>-0.5664</td>\n",
       "      <td>B00813GRG4</td>\n",
       "      <td>A1D87F6ZCVE5NK</td>\n",
       "      <td>dll pa</td>\n",
       "      <td>0</td>\n",
       "      <td>0</td>\n",
       "      <td>1</td>\n",
       "      <td>1346976000</td>\n",
       "      <td>Not as Advertised</td>\n",
       "      <td>Product arrived labeled as Jumbo Salted Peanut...</td>\n",
       "    </tr>\n",
       "    <tr>\n",
       "      <th>2</th>\n",
       "      <td>3</td>\n",
       "      <td>0.091</td>\n",
       "      <td>0.754</td>\n",
       "      <td>0.155</td>\n",
       "      <td>0.8265</td>\n",
       "      <td>B000LQOCH0</td>\n",
       "      <td>ABXLMWJIXXAIN</td>\n",
       "      <td>Natalia Corres \"Natalia Corres\"</td>\n",
       "      <td>1</td>\n",
       "      <td>1</td>\n",
       "      <td>4</td>\n",
       "      <td>1219017600</td>\n",
       "      <td>\"Delight\" says it all</td>\n",
       "      <td>This is a confection that has been around a fe...</td>\n",
       "    </tr>\n",
       "    <tr>\n",
       "      <th>3</th>\n",
       "      <td>4</td>\n",
       "      <td>0.000</td>\n",
       "      <td>1.000</td>\n",
       "      <td>0.000</td>\n",
       "      <td>0.0000</td>\n",
       "      <td>B000UA0QIQ</td>\n",
       "      <td>A395BORC6FGVXV</td>\n",
       "      <td>Karl</td>\n",
       "      <td>3</td>\n",
       "      <td>3</td>\n",
       "      <td>2</td>\n",
       "      <td>1307923200</td>\n",
       "      <td>Cough Medicine</td>\n",
       "      <td>If you are looking for the secret ingredient i...</td>\n",
       "    </tr>\n",
       "    <tr>\n",
       "      <th>4</th>\n",
       "      <td>5</td>\n",
       "      <td>0.000</td>\n",
       "      <td>0.552</td>\n",
       "      <td>0.448</td>\n",
       "      <td>0.9468</td>\n",
       "      <td>B006K2ZZ7K</td>\n",
       "      <td>A1UQRSCLF8GW1T</td>\n",
       "      <td>Michael D. Bigham \"M. Wassir\"</td>\n",
       "      <td>0</td>\n",
       "      <td>0</td>\n",
       "      <td>5</td>\n",
       "      <td>1350777600</td>\n",
       "      <td>Great taffy</td>\n",
       "      <td>Great taffy at a great price.  There was a wid...</td>\n",
       "    </tr>\n",
       "  </tbody>\n",
       "</table>\n",
       "</div>"
      ],
      "text/plain": [
       "   Id    neg    neu    pos  compound   ProductId          UserId  \\\n",
       "0   1  0.000  0.695  0.305    0.9441  B001E4KFG0  A3SGXH7AUHU8GW   \n",
       "1   2  0.138  0.862  0.000   -0.5664  B00813GRG4  A1D87F6ZCVE5NK   \n",
       "2   3  0.091  0.754  0.155    0.8265  B000LQOCH0   ABXLMWJIXXAIN   \n",
       "3   4  0.000  1.000  0.000    0.0000  B000UA0QIQ  A395BORC6FGVXV   \n",
       "4   5  0.000  0.552  0.448    0.9468  B006K2ZZ7K  A1UQRSCLF8GW1T   \n",
       "\n",
       "                       ProfileName  HelpfulnessNumerator  \\\n",
       "0                       delmartian                     1   \n",
       "1                           dll pa                     0   \n",
       "2  Natalia Corres \"Natalia Corres\"                     1   \n",
       "3                             Karl                     3   \n",
       "4    Michael D. Bigham \"M. Wassir\"                     0   \n",
       "\n",
       "   HelpfulnessDenominator  Score        Time                Summary  \\\n",
       "0                       1      5  1303862400  Good Quality Dog Food   \n",
       "1                       0      1  1346976000      Not as Advertised   \n",
       "2                       1      4  1219017600  \"Delight\" says it all   \n",
       "3                       3      2  1307923200         Cough Medicine   \n",
       "4                       0      5  1350777600            Great taffy   \n",
       "\n",
       "                                                Text  \n",
       "0  I have bought several of the Vitality canned d...  \n",
       "1  Product arrived labeled as Jumbo Salted Peanut...  \n",
       "2  This is a confection that has been around a fe...  \n",
       "3  If you are looking for the secret ingredient i...  \n",
       "4  Great taffy at a great price.  There was a wid...  "
      ]
     },
     "execution_count": 23,
     "metadata": {},
     "output_type": "execute_result"
    }
   ],
   "source": [
    "vaders.head()"
   ]
  },
  {
   "cell_type": "code",
   "execution_count": 24,
   "id": "b9e57ce5",
   "metadata": {},
   "outputs": [
    {
     "data": {
      "image/png": "[encoded data removed]",
      "text/plain": [
       "<Figure size 640x480 with 1 Axes>"
      ]
     },
     "metadata": {},
     "output_type": "display_data"
    }
   ],
   "source": [
    "ax = sns.barplot(data=vaders, x='Score', y='compound')\n",
    "ax.set_title('Compund Score by Amazon Star Review')\n",
    "plt.show()"
   ]
  },
  {
   "cell_type": "code",
   "execution_count": 25,
   "id": "19a3c768",
   "metadata": {},
   "outputs": [
    {
     "data": {
      "image/png": "[encoded data removed]",
      "text/plain": [
       "<Figure size 1200x300 with 3 Axes>"
      ]
     },
     "metadata": {},
     "output_type": "display_data"
    }
   ],
   "source": [
    "fig, axs = plt.subplots(1, 3, figsize=(12, 3))\n",
    "sns.barplot(data=vaders, x='Score', y='pos', ax=axs[0])\n",
    "sns.barplot(data=vaders, x='Score', y='neu', ax=axs[1])\n",
    "sns.barplot(data=vaders, x='Score', y='neg', ax=axs[2])\n",
    "axs[0].set_title('Positive')\n",
    "axs[1].set_title('Neutral')\n",
    "axs[2].set_title('Negative')\n",
    "plt.tight_layout()\n",
    "plt.show()"
   ]
  },
  {
   "cell_type": "code",
   "execution_count": null,
   "id": "e77ab60e",
   "metadata": {},
   "outputs": [],
   "source": []
  }
 ],
 "metadata": {
  "kernelspec": {
   "display_name": "Python 3 (ipykernel)",
   "language": "python",
   "name": "python3"
  },
  "language_info": {
   "codemirror_mode": {
    "name": "ipython",
    "version": 3
   },
   "file_extension": ".py",
   "mimetype": "text/x-python",
   "name": "python",
   "nbconvert_exporter": "python",
   "pygments_lexer": "ipython3",
   "version": "3.11.4"
  }
 },
 "nbformat": 4,
 "nbformat_minor": 5
}
